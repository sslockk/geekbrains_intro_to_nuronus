{
 "cells": [
  {
   "cell_type": "code",
   "execution_count": 1,
   "metadata": {},
   "outputs": [
    {
     "name": "stdout",
     "output_type": "stream",
     "text": [
      "2.0.0\n"
     ]
    },
    {
     "name": "stderr",
     "output_type": "stream",
     "text": [
      "Using TensorFlow backend.\n"
     ]
    }
   ],
   "source": [
    "from __future__ import absolute_import, division, print_function, unicode_literals\n",
    "\n",
    "# TensorFlow and tf.keras\n",
    "import tensorflow as tf\n",
    "from tensorflow import keras\n",
    "# import tensorflow_datasets as tfds\n",
    "\n",
    "# Helper libraries\n",
    "import numpy as np\n",
    "import matplotlib.pyplot as plt\n",
    "\n",
    "from keras.datasets import imdb\n",
    "\n",
    "print(tf.__version__)"
   ]
  },
  {
   "cell_type": "code",
   "execution_count": 2,
   "metadata": {},
   "outputs": [
    {
     "data": {
      "text/plain": [
       "42"
      ]
     },
     "execution_count": 2,
     "metadata": {},
     "output_type": "execute_result"
    }
   ],
   "source": [
    "import gc\n",
    "gc.collect()"
   ]
  },
  {
   "cell_type": "code",
   "execution_count": 3,
   "metadata": {},
   "outputs": [],
   "source": [
    "(x_train, y_train), (x_test, y_test) = imdb.load_data(path=\"imdb.npz\",\n",
    "                                                      num_words=10000,\n",
    "                                                      skip_top=0,\n",
    "                                                      maxlen=None,\n",
    "                                                      seed=113,\n",
    "                                                      start_char=1,\n",
    "                                                      oov_char=2,\n",
    "                                                      index_from=3)"
   ]
  },
  {
   "cell_type": "code",
   "execution_count": 4,
   "metadata": {
    "scrolled": false
   },
   "outputs": [],
   "source": [
    "# Соеденим тестовый и трейн наборы в один\n",
    "X = np.append(x_train, x_test)\n",
    "y = np.append(y_train, y_test)"
   ]
  },
  {
   "cell_type": "code",
   "execution_count": 5,
   "metadata": {},
   "outputs": [
    {
     "name": "stdout",
     "output_type": "stream",
     "text": [
      "Кол-во уникальных слов: 9998\n"
     ]
    }
   ],
   "source": [
    "print(\"Кол-во уникальных слов:\", len(np.unique(np.hstack(X))))"
   ]
  },
  {
   "cell_type": "code",
   "execution_count": 6,
   "metadata": {},
   "outputs": [],
   "source": [
    "# Перекодируем номера слов в вектор признаков с размерностью кол-ва уникальных слов\n",
    "def vectorize(sequences, dimension = 10000):\n",
    "    results = np.zeros((len(sequences), dimension))\n",
    "    for i, sequence in enumerate(sequences):\n",
    "        results[i, sequence] = 1\n",
    "    return results\n",
    " \n",
    "X = vectorize(X)\n",
    "y = np.array(y).astype(\"float32\")"
   ]
  },
  {
   "cell_type": "code",
   "execution_count": 7,
   "metadata": {},
   "outputs": [],
   "source": [
    "# X = np.float32(X)"
   ]
  },
  {
   "cell_type": "code",
   "execution_count": 8,
   "metadata": {},
   "outputs": [],
   "source": [
    "from sklearn.model_selection import train_test_split"
   ]
  },
  {
   "cell_type": "code",
   "execution_count": 9,
   "metadata": {},
   "outputs": [],
   "source": [
    "x_train, x_test, y_train, y_test = train_test_split(X, y, test_size=0.39, shuffle=True, random_state=42)"
   ]
  },
  {
   "cell_type": "markdown",
   "metadata": {
    "colab_type": "text",
    "id": "Gxg1XGm0eOBy"
   },
   "source": [
    "### Определение слоев нейросети\n",
    "\n",
    "Создадим нейронную сеть с помощью функционала Keras.layers"
   ]
  },
  {
   "cell_type": "code",
   "execution_count": 10,
   "metadata": {},
   "outputs": [],
   "source": [
    "model = keras.Sequential([\n",
    "    keras.layers.Flatten(input_shape=(10000,)),\n",
    "    keras.layers.Dense(512, activation='relu'),\n",
    "    keras.layers.Dense(256, activation='relu'),\n",
    "#     keras.layers.Dense(128, activation='relu'),\n",
    "#     keras.layers.Dense(64, activation='relu'),\n",
    "#     keras.layers.Dense(1, activation='softmax')\n",
    "    keras.layers.Dense(1, activation='sigmoid')\n",
    "])"
   ]
  },
  {
   "cell_type": "code",
   "execution_count": 11,
   "metadata": {},
   "outputs": [],
   "source": [
    "model.compile(optimizer='adam',\n",
    "              loss='binary_crossentropy',\n",
    "              metrics=['accuracy'])"
   ]
  },
  {
   "cell_type": "code",
   "execution_count": 12,
   "metadata": {
    "scrolled": false
   },
   "outputs": [
    {
     "name": "stdout",
     "output_type": "stream",
     "text": [
      "Train on 30500 samples, validate on 19500 samples\n",
      "Epoch 1/20\n",
      "30500/30500 [==============================] - 4s 119us/sample - loss: 0.3503 - accuracy: 0.8484 - val_loss: 0.2910 - val_accuracy: 0.8872\n",
      "Epoch 2/20\n",
      "30500/30500 [==============================] - 2s 73us/sample - loss: 0.1593 - accuracy: 0.9409 - val_loss: 0.2852 - val_accuracy: 0.8928\n",
      "Epoch 3/20\n",
      "30500/30500 [==============================] - 2s 73us/sample - loss: 0.0603 - accuracy: 0.9819 - val_loss: 0.3494 - val_accuracy: 0.8877\n",
      "Epoch 4/20\n",
      "30500/30500 [==============================] - 2s 75us/sample - loss: 0.0096 - accuracy: 0.9989 - val_loss: 0.4761 - val_accuracy: 0.8877\n",
      "Epoch 5/20\n",
      "30500/30500 [==============================] - 2s 74us/sample - loss: 0.0011 - accuracy: 0.9999 - val_loss: 0.5591 - val_accuracy: 0.8917\n",
      "Epoch 6/20\n",
      "30500/30500 [==============================] - 2s 73us/sample - loss: 3.1580e-04 - accuracy: 1.0000 - val_loss: 0.6031 - val_accuracy: 0.8913\n",
      "Epoch 7/20\n",
      "30500/30500 [==============================] - 2s 73us/sample - loss: 1.9317e-04 - accuracy: 1.0000 - val_loss: 0.6297 - val_accuracy: 0.8917\n",
      "Epoch 8/20\n",
      "30500/30500 [==============================] - 2s 73us/sample - loss: 1.3862e-04 - accuracy: 1.0000 - val_loss: 0.6491 - val_accuracy: 0.8915\n",
      "Epoch 9/20\n",
      "30500/30500 [==============================] - 2s 73us/sample - loss: 1.0576e-04 - accuracy: 1.0000 - val_loss: 0.6646 - val_accuracy: 0.8916\n",
      "Epoch 10/20\n",
      "30500/30500 [==============================] - 2s 72us/sample - loss: 8.4151e-05 - accuracy: 1.0000 - val_loss: 0.6785 - val_accuracy: 0.8915\n",
      "Epoch 11/20\n",
      "30500/30500 [==============================] - 2s 73us/sample - loss: 6.8653e-05 - accuracy: 1.0000 - val_loss: 0.6909 - val_accuracy: 0.8916\n",
      "Epoch 12/20\n",
      "30500/30500 [==============================] - 2s 73us/sample - loss: 5.7311e-05 - accuracy: 1.0000 - val_loss: 0.7022 - val_accuracy: 0.8915\n",
      "Epoch 13/20\n",
      "30500/30500 [==============================] - 2s 73us/sample - loss: 4.8561e-05 - accuracy: 1.0000 - val_loss: 0.7119 - val_accuracy: 0.8914\n",
      "Epoch 14/20\n",
      "30500/30500 [==============================] - 2s 74us/sample - loss: 4.1738e-05 - accuracy: 1.0000 - val_loss: 0.7214 - val_accuracy: 0.8915\n",
      "Epoch 15/20\n",
      "30500/30500 [==============================] - 2s 74us/sample - loss: 3.6201e-05 - accuracy: 1.0000 - val_loss: 0.7301 - val_accuracy: 0.8918\n",
      "Epoch 16/20\n",
      "30500/30500 [==============================] - 2s 73us/sample - loss: 3.1695e-05 - accuracy: 1.0000 - val_loss: 0.7385 - val_accuracy: 0.8916\n",
      "Epoch 17/20\n",
      "30500/30500 [==============================] - 2s 73us/sample - loss: 2.7948e-05 - accuracy: 1.0000 - val_loss: 0.7457 - val_accuracy: 0.8918\n",
      "Epoch 18/20\n",
      "30500/30500 [==============================] - 2s 73us/sample - loss: 2.4832e-05 - accuracy: 1.0000 - val_loss: 0.7532 - val_accuracy: 0.8919\n",
      "Epoch 19/20\n",
      "30500/30500 [==============================] - 2s 73us/sample - loss: 2.2193e-05 - accuracy: 1.0000 - val_loss: 0.7603 - val_accuracy: 0.8919\n",
      "Epoch 20/20\n",
      "30500/30500 [==============================] - 2s 73us/sample - loss: 1.9935e-05 - accuracy: 1.0000 - val_loss: 0.7664 - val_accuracy: 0.8920\n"
     ]
    },
    {
     "data": {
      "text/plain": [
       "<tensorflow.python.keras.callbacks.History at 0x26b7b8ac88>"
      ]
     },
     "execution_count": 12,
     "metadata": {},
     "output_type": "execute_result"
    }
   ],
   "source": [
    "model.fit(x_train, y_train, batch_size=512, epochs=20,\n",
    "          validation_data=(x_test, y_test))"
   ]
  },
  {
   "cell_type": "code",
   "execution_count": 13,
   "metadata": {
    "scrolled": false
   },
   "outputs": [
    {
     "name": "stdout",
     "output_type": "stream",
     "text": [
      "19500/1 - 2s - loss: 1.3140 - accuracy: 0.8920\n",
      "\n",
      "Test accuracy: 0.892\n"
     ]
    }
   ],
   "source": [
    "test_loss, test_acc = model.evaluate(x_test,  y_test, verbose=2)\n",
    "print('\\nTest accuracy:', test_acc)"
   ]
  },
  {
   "cell_type": "code",
   "execution_count": null,
   "metadata": {},
   "outputs": [],
   "source": []
  }
 ],
 "metadata": {
  "kernelspec": {
   "display_name": "Python 3",
   "language": "python",
   "name": "python3"
  },
  "language_info": {
   "codemirror_mode": {
    "name": "ipython",
    "version": 3
   },
   "file_extension": ".py",
   "mimetype": "text/x-python",
   "name": "python",
   "nbconvert_exporter": "python",
   "pygments_lexer": "ipython3",
   "version": "3.7.7"
  }
 },
 "nbformat": 4,
 "nbformat_minor": 4
}
