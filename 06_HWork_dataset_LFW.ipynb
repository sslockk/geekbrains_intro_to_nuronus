{
 "cells": [
  {
   "cell_type": "code",
   "execution_count": 1,
   "metadata": {},
   "outputs": [],
   "source": [
    "%matplotlib inline\n",
    "import matplotlib.pyplot as plt\n",
    "import numpy as np\n",
    "from sklearn.manifold import TSNE\n",
    "\n",
    "import tensorflow as tf\n",
    "import tensorflow_datasets as tfds"
   ]
  },
  {
   "cell_type": "code",
   "execution_count": 2,
   "metadata": {
    "scrolled": true
   },
   "outputs": [
    {
     "data": {
      "text/plain": [
       "'3.1.0'"
      ]
     },
     "execution_count": 2,
     "metadata": {},
     "output_type": "execute_result"
    }
   ],
   "source": [
    "tfds.__version__"
   ]
  },
  {
   "cell_type": "code",
   "execution_count": 3,
   "metadata": {
    "scrolled": true
   },
   "outputs": [],
   "source": [
    "(train_ds, test_ds), ds_info = tfds.load(\n",
    "    'lfw',\n",
    "    as_supervised=True,\n",
    "    with_info=True,\n",
    "    split=['train[:90%]', 'train[90%:]'],\n",
    ")"
   ]
  },
  {
   "cell_type": "markdown",
   "metadata": {},
   "source": [
    "## Создание модели CNN"
   ]
  },
  {
   "cell_type": "code",
   "execution_count": 11,
   "metadata": {},
   "outputs": [],
   "source": [
    "EMB_SIZE = 64\n",
    "\n",
    "model = tf.keras.models.Sequential([\n",
    "    tf.keras.layers.Conv2D(32, (5, 5), padding='same', activation='relu'),\n",
    "    tf.keras.layers.MaxPool2D((2, 2), (2, 2)),\n",
    "    tf.keras.layers.Conv2D(64, (5, 5), padding='same', activation='relu'),\n",
    "    tf.keras.layers.MaxPool2D((2, 2), (2, 2)),\n",
    "    tf.keras.layers.Flatten(),\n",
    "    tf.keras.layers.Dense(512, activation='relu'),\n",
    "    tf.keras.layers.Dropout(0.5),\n",
    "    tf.keras.layers.Dense(EMB_SIZE, activation=None),\n",
    "])"
   ]
  },
  {
   "cell_type": "markdown",
   "metadata": {},
   "source": [
    "## Contrastive Loss"
   ]
  },
  {
   "cell_type": "code",
   "execution_count": 12,
   "metadata": {},
   "outputs": [],
   "source": [
    "MARGIN = 10.0\n",
    "\n",
    "def contastive_loss(embs, labels):\n",
    "    bs = embs.shape[0]\n",
    "    embs1 = embs[:bs//2, :]\n",
    "    embs2 = embs[bs//2:, :]\n",
    "    labels1 = labels[:bs//2]\n",
    "    labels2 = labels[bs//2:]\n",
    "\n",
    "    d2 = tf.reduce_sum(tf.square(embs1 - embs2), axis=1)\n",
    "    d =  tf.sqrt(d2)\n",
    "    z = tf.cast(labels1 == labels2, tf.float32)\n",
    "    \n",
    "    return tf.reduce_mean(z * d2 + (1-z) * tf.maximum(0, MARGIN - d)**2)"
   ]
  },
  {
   "cell_type": "markdown",
   "metadata": {},
   "source": [
    "## Подготовка пайплайна данных"
   ]
  },
  {
   "cell_type": "code",
   "execution_count": 13,
   "metadata": {},
   "outputs": [],
   "source": [
    "BATCH_SIZE = 128\n",
    "NUM_EPOCHS = 1\n",
    "INP_SIZE = 100\n",
    "\n",
    "\n",
    "def prepare(label, img):\n",
    "    img = tf.cast(img, tf.float32)/255.\n",
    "    return label, tf.image.resize(img, (INP_SIZE, INP_SIZE))"
   ]
  },
  {
   "cell_type": "code",
   "execution_count": 15,
   "metadata": {
    "scrolled": false
   },
   "outputs": [],
   "source": [
    "train_ds = train_ds.shuffle(buffer_size=1000)\n",
    "train_ds = train_ds.map(prepare)\n",
    "train_ds = train_ds.repeat(NUM_EPOCHS)\n",
    "train_ds = train_ds.batch(BATCH_SIZE)"
   ]
  },
  {
   "cell_type": "markdown",
   "metadata": {},
   "source": [
    "## Подготовка к обучению"
   ]
  },
  {
   "cell_type": "code",
   "execution_count": 16,
   "metadata": {},
   "outputs": [],
   "source": [
    "LEARNING_RATE = 0.001\n",
    "optimizer = tf.keras.optimizers.Adam(LEARNING_RATE)"
   ]
  },
  {
   "cell_type": "markdown",
   "metadata": {},
   "source": [
    "## Обучение модели"
   ]
  },
  {
   "cell_type": "code",
   "execution_count": 17,
   "metadata": {},
   "outputs": [
    {
     "name": "stdout",
     "output_type": "stream",
     "text": [
      "[0] Loss: 90.51570129394531\n",
      "CPU times: user 12min 19s, sys: 1min 10s, total: 13min 30s\n",
      "Wall time: 3min 58s\n"
     ]
    }
   ],
   "source": [
    "%%time\n",
    "\n",
    "for iteration, (labels, images) in enumerate(train_ds):\n",
    "    \n",
    "    # Forward\n",
    "    with tf.GradientTape() as tape:\n",
    "        embs = model(images)\n",
    "        loss_value = contastive_loss(embs, labels)\n",
    "        \n",
    "    # Backward\n",
    "    grads = tape.gradient(loss_value, model.variables)\n",
    "    optimizer.apply_gradients(zip(grads, model.variables))\n",
    "\n",
    "    if iteration % 200 == 0:\n",
    "        print('[{}] Loss: {}'.format(iteration, loss_value.numpy()))"
   ]
  },
  {
   "cell_type": "markdown",
   "metadata": {},
   "source": [
    "## Получение эмбеддингов для тестовой выборки"
   ]
  },
  {
   "cell_type": "code",
   "execution_count": 26,
   "metadata": {},
   "outputs": [
    {
     "data": {
      "text/plain": [
       "<BatchDataset shapes: ((None,), (None, 100, 100, 3)), types: (tf.string, tf.float32)>"
      ]
     },
     "execution_count": 26,
     "metadata": {},
     "output_type": "execute_result"
    }
   ],
   "source": [
    "train_ds"
   ]
  },
  {
   "cell_type": "code",
   "execution_count": 27,
   "metadata": {},
   "outputs": [],
   "source": [
    "test_ds = test_ds.map(prepare)\n",
    "# test_ds = test_ds.batch(BATCH_SIZE)"
   ]
  },
  {
   "cell_type": "code",
   "execution_count": 72,
   "metadata": {},
   "outputs": [],
   "source": [
    "test_y = [tfds.as_numpy(y).decode('utf-8') for y, x in test_ds]\n",
    "test_x = [x for y, x in test_ds]"
   ]
  },
  {
   "cell_type": "code",
   "execution_count": 67,
   "metadata": {
    "scrolled": false
   },
   "outputs": [],
   "source": [
    "test_embs = []\n",
    "for iteration, (labels, images) in enumerate(test_ds):\n",
    "    \n",
    "    # Forward\n",
    "#     test_embs = model(images[None, ...])\n",
    "    test_embs.append(np.ndarray.tolist(model(images[None, ...]).numpy()[-1, ...]))"
   ]
  },
  {
   "cell_type": "markdown",
   "metadata": {},
   "source": [
    "## Функция для визуализации эмбеддингов"
   ]
  },
  {
   "cell_type": "code",
   "execution_count": 80,
   "metadata": {},
   "outputs": [],
   "source": [
    "def draw_embeddings(X_embedded, targets, labels):\n",
    "    plt.figure(figsize=(10, 10))\n",
    "    for class_idx in range(len(labels_for_viz)+1):\n",
    "        X_embedded_class = X_embedded[targets == class_idx, :]\n",
    "        plt.scatter(X_embedded_class[:,0], X_embedded_class[:,1])\n",
    "    plt.legend(labels, loc='best')\n",
    "    plt.grid(True)"
   ]
  },
  {
   "cell_type": "code",
   "execution_count": 83,
   "metadata": {},
   "outputs": [
    {
     "ename": "TypeError",
     "evalue": "list indices must be integers or slices, not tuple",
     "output_type": "error",
     "traceback": [
      "\u001b[0;31m---------------------------------------------------------------------------\u001b[0m",
      "\u001b[0;31mTypeError\u001b[0m                                 Traceback (most recent call last)",
      "\u001b[0;32m<ipython-input-83-9ab12be021b4>\u001b[0m in \u001b[0;36m<module>\u001b[0;34m\u001b[0m\n\u001b[0;32m----> 1\u001b[0;31m \u001b[0mlabels_for_viz\u001b[0m\u001b[0;34m[\u001b[0m\u001b[0;34m:\u001b[0m\u001b[0;34m,\u001b[0m\u001b[0;36m0\u001b[0m\u001b[0;34m]\u001b[0m\u001b[0;34m\u001b[0m\u001b[0;34m\u001b[0m\u001b[0m\n\u001b[0m",
      "\u001b[0;31mTypeError\u001b[0m: list indices must be integers or slices, not tuple"
     ]
    }
   ],
   "source": [
    "labels_for_viz[:,0]"
   ]
  },
  {
   "cell_type": "code",
   "execution_count": 75,
   "metadata": {},
   "outputs": [],
   "source": [
    "test_embs_2D = TSNE(n_components=2).fit_transform(test_embs[:1000])\n",
    "labels_for_viz = test_y[:1000]"
   ]
  },
  {
   "cell_type": "code",
   "execution_count": 81,
   "metadata": {},
   "outputs": [
    {
     "data": {
      "image/png": "[encoded data removed]",
      "text/plain": [
       "<Figure size 720x720 with 1 Axes>"
      ]
     },
     "metadata": {
      "needs_background": "light"
     },
     "output_type": "display_data"
    }
   ],
   "source": [
    "draw_embeddings(test_embs_2D, labels_for_viz, list(range(10)))"
   ]
  }
 ],
 "metadata": {
  "kernelspec": {
   "display_name": "Python 3",
   "language": "python",
   "name": "python3"
  },
  "language_info": {
   "codemirror_mode": {
    "name": "ipython",
    "version": 3
   },
   "file_extension": ".py",
   "mimetype": "text/x-python",
   "name": "python",
   "nbconvert_exporter": "python",
   "pygments_lexer": "ipython3",
   "version": "3.7.6"
  }
 },
 "nbformat": 4,
 "nbformat_minor": 4
}
